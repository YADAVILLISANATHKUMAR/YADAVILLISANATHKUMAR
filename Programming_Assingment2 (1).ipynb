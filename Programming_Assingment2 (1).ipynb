{
 "cells": [
  {
   "cell_type": "markdown",
   "id": "633b2061",
   "metadata": {},
   "source": [
    "1.\tWrite a Python program to convert kilometers to miles?\n"
   ]
  },
  {
   "cell_type": "code",
   "execution_count": 11,
   "id": "e935474e",
   "metadata": {},
   "outputs": [
    {
     "name": "stdout",
     "output_type": "stream",
     "text": [
      "enter the kilometer to convert miles :1\n",
      "kilometers convert into miles:  0.621\n"
     ]
    }
   ],
   "source": [
    "kilometers =float(input(\"enter the kilometer value  to convert  into miles :\"))\n",
    "#standard conversion for kilometers to miles i.e 1km =0.621 miles            ..\n",
    "miles = kilometers * 0.621\n",
    "print(\"kilometers convert into miles: \",miles)\n",
    "\n"
   ]
  },
  {
   "cell_type": "markdown",
   "id": "7030725f",
   "metadata": {},
   "source": [
    "2.\tWrite a Python program to convert Celsius to Fahrenheit?\n"
   ]
  },
  {
   "cell_type": "code",
   "execution_count": 15,
   "id": "0c9db019",
   "metadata": {},
   "outputs": [
    {
     "name": "stdout",
     "output_type": "stream",
     "text": [
      "enter  the celsius value to convert fahrenheit :45\n",
      "113.0\n"
     ]
    }
   ],
   "source": [
    "Celsius = float(input(\"enter  the celsius value to convert fahrenheit :\"))\n",
    "# standard converstion for Fahrenheit =(celsius * 9/5)+32\n",
    "Fahrenheit =(Celsius * 9 /5)+32 \n",
    "print(Fahrenheit)\n"
   ]
  },
  {
   "cell_type": "markdown",
   "id": "15a71ac1",
   "metadata": {},
   "source": [
    "3.\tWrite a Python program to display calendar?"
   ]
  },
  {
   "cell_type": "code",
   "execution_count": 25,
   "id": "64b9038b",
   "metadata": {},
   "outputs": [
    {
     "name": "stdout",
     "output_type": "stream",
     "text": [
      "enter the year to display the calendar of year2015\n",
      "The calendar of year 2022 : \n",
      "                                  2015\n",
      "\n",
      "      January                   February                   March\n",
      "Mo Tu We Th Fr Sa Su      Mo Tu We Th Fr Sa Su      Mo Tu We Th Fr Sa Su\n",
      "          1  2  3  4                         1                         1\n",
      " 5  6  7  8  9 10 11       2  3  4  5  6  7  8       2  3  4  5  6  7  8\n",
      "12 13 14 15 16 17 18       9 10 11 12 13 14 15       9 10 11 12 13 14 15\n",
      "19 20 21 22 23 24 25      16 17 18 19 20 21 22      16 17 18 19 20 21 22\n",
      "26 27 28 29 30 31         23 24 25 26 27 28         23 24 25 26 27 28 29\n",
      "                                                    30 31\n",
      "\n",
      "       April                      May                       June\n",
      "Mo Tu We Th Fr Sa Su      Mo Tu We Th Fr Sa Su      Mo Tu We Th Fr Sa Su\n",
      "       1  2  3  4  5                   1  2  3       1  2  3  4  5  6  7\n",
      " 6  7  8  9 10 11 12       4  5  6  7  8  9 10       8  9 10 11 12 13 14\n",
      "13 14 15 16 17 18 19      11 12 13 14 15 16 17      15 16 17 18 19 20 21\n",
      "20 21 22 23 24 25 26      18 19 20 21 22 23 24      22 23 24 25 26 27 28\n",
      "27 28 29 30               25 26 27 28 29 30 31      29 30\n",
      "\n",
      "        July                     August                  September\n",
      "Mo Tu We Th Fr Sa Su      Mo Tu We Th Fr Sa Su      Mo Tu We Th Fr Sa Su\n",
      "       1  2  3  4  5                      1  2          1  2  3  4  5  6\n",
      " 6  7  8  9 10 11 12       3  4  5  6  7  8  9       7  8  9 10 11 12 13\n",
      "13 14 15 16 17 18 19      10 11 12 13 14 15 16      14 15 16 17 18 19 20\n",
      "20 21 22 23 24 25 26      17 18 19 20 21 22 23      21 22 23 24 25 26 27\n",
      "27 28 29 30 31            24 25 26 27 28 29 30      28 29 30\n",
      "                          31\n",
      "\n",
      "      October                   November                  December\n",
      "Mo Tu We Th Fr Sa Su      Mo Tu We Th Fr Sa Su      Mo Tu We Th Fr Sa Su\n",
      "          1  2  3  4                         1          1  2  3  4  5  6\n",
      " 5  6  7  8  9 10 11       2  3  4  5  6  7  8       7  8  9 10 11 12 13\n",
      "12 13 14 15 16 17 18       9 10 11 12 13 14 15      14 15 16 17 18 19 20\n",
      "19 20 21 22 23 24 25      16 17 18 19 20 21 22      21 22 23 24 25 26 27\n",
      "26 27 28 29 30 31         23 24 25 26 27 28 29      28 29 30 31\n",
      "                          30\n",
      "\n"
     ]
    }
   ],
   "source": [
    "\n",
    "# importing calendar module to display calendar\n",
    "import calendar\n",
    "a=int(input(\"enter the year to display the calendar of year\")) \n",
    "# prints calendar of 2022\n",
    "print (\"The calendar of year 2022 : \")\n",
    "print (calendar.calendar(a))"
   ]
  },
  {
   "cell_type": "markdown",
   "id": "52c211f8",
   "metadata": {},
   "source": [
    "4.\tWrite a Python program to solve quadratic equation?\n"
   ]
  },
  {
   "cell_type": "code",
   "execution_count": 42,
   "id": "0d249bb1",
   "metadata": {},
   "outputs": [
    {
     "name": "stdout",
     "output_type": "stream",
     "text": [
      "enter the first value :3\n",
      "enter the second value :2\n",
      "enter the third value :5\n",
      "Complex Roots\n",
      "-0.3333333333333333  + i 7.483314773547883\n",
      "-0.3333333333333333  - i 7.483314773547883\n"
     ]
    }
   ],
   "source": [
    "''' the standard quadratic euqation is ax^2 +bx+c =0\n",
    "The discriminant of the quadratic equation is D = b2 – 4ac\n",
    "If D > 0, then the roots are real and distinct.\n",
    "If D = 0, then the roots are real and equal.\n",
    "If D < 0, then the roots do not exist, or the roots are imaginary.\n",
    "The quadratic equation having roots α, β, is x2 – (α + β)x + αβ = 0.\n",
    "'''\n",
    "\n",
    "\n",
    "\n",
    "\n",
    "#Python program to solve quadratic equation using formula\n",
    "import math \n",
    "a= int(input(\"enter the first value :\"))\n",
    "b= int(input(\"enter the second value :\"))\n",
    "c=int(input(\"enter the third value :\"))\n",
    "# Finding the roots using the Function\n",
    "def roots_of_equation(a, b, c): \n",
    "  \n",
    "  # Finding the value of Discriminant \n",
    "  D = b*b - 4*a*c \n",
    "    \n",
    "  sqrt_D = math.sqrt(abs(D)) \n",
    "      \n",
    "  # checking Discriminant condition \n",
    "  if D > 0: \n",
    "    print(\"Roots are Real and Different \") \n",
    "    print((-b + sqrt_D)/(2*a)) \n",
    "    print((-b - sqrt_D)/(2*a)) \n",
    "      \n",
    "  elif D == 0:\n",
    "    print(\" real and same roots\") \n",
    "    print(-b / (2*a)) \n",
    "      \n",
    "  # Discriminant < 0 follows else block\n",
    "  \n",
    "  else:\n",
    "    print(\"Complex Roots\") \n",
    "    print(- b / (2*a), \" + i\", sqrt_D) \n",
    "    print(- b / (2*a), \" - i\", sqrt_D)  \n",
    "\n",
    "if a == 0: \n",
    "  print(\"Input correct Quadratic Equation\")   \n",
    "else:\n",
    "  roots_of_equation(a, b, c)\n"
   ]
  },
  {
   "cell_type": "markdown",
   "id": "b6c88d42",
   "metadata": {},
   "source": [
    "5.\tWrite a Python program to swap two variables without temp variable?\n"
   ]
  },
  {
   "cell_type": "code",
   "execution_count": 2,
   "id": "b1989ed8",
   "metadata": {},
   "outputs": [
    {
     "name": "stdout",
     "output_type": "stream",
     "text": [
      "enter the first value:1\n",
      "enter the second value:2\n",
      "Values before swapping\n",
      "1 2\n",
      "Values after swapping\n",
      "2 1\n"
     ]
    }
   ],
   "source": [
    "#METHOD-1\n",
    "x=int(input(\"enter the first value:\"))\n",
    "y=int(input(\"enter the second value:\"))\n",
    "print(\"Values before swapping\")\n",
    "print(x,y)\n",
    "print(\"Values after swapping\")\n",
    "\n",
    "x=x+y\n",
    "y=x-y\n",
    "x=x-y\n",
    "print(x,y)"
   ]
  },
  {
   "cell_type": "code",
   "execution_count": 1,
   "id": "e03d0fc2",
   "metadata": {},
   "outputs": [
    {
     "name": "stdout",
     "output_type": "stream",
     "text": [
      "enter the first value:1 \n",
      "enter the second value:2\n",
      "Values before swapping\n",
      "1 2\n",
      "Values after swapping\n",
      "2 1\n"
     ]
    }
   ],
   "source": [
    "#METHOD -2\n",
    "x=int(input(\"enter the first value:\"))\n",
    "y=int(input(\"enter the second value:\"))\n",
    "print(\"Values before swapping\")\n",
    "print(x,y)\n",
    "print(\"Values after swapping\")\n",
    "x,y=y,x\n",
    "print(x,y)\n",
    "\n"
   ]
  },
  {
   "cell_type": "code",
   "execution_count": null,
   "id": "a46d906f",
   "metadata": {},
   "outputs": [],
   "source": []
  }
 ],
 "metadata": {
  "kernelspec": {
   "display_name": "Python 3 (ipykernel)",
   "language": "python",
   "name": "python3"
  },
  "language_info": {
   "codemirror_mode": {
    "name": "ipython",
    "version": 3
   },
   "file_extension": ".py",
   "mimetype": "text/x-python",
   "name": "python",
   "nbconvert_exporter": "python",
   "pygments_lexer": "ipython3",
   "version": "3.9.12"
  }
 },
 "nbformat": 4,
 "nbformat_minor": 5
}
